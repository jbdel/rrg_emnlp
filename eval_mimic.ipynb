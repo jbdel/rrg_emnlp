{
  "nbformat": 4,
  "nbformat_minor": 0,
  "metadata": {
    "colab": {
      "provenance": [],
      "collapsed_sections": [
        "mczmzxjmNIEG"
      ]
    },
    "kernelspec": {
      "name": "python3",
      "display_name": "Python 3"
    },
    "language_info": {
      "name": "python"
    },
    "accelerator": "GPU",
    "gpuClass": "standard"
  },
  "cells": [
    {
      "cell_type": "markdown",
      "source": [
        "# Setup (can take up to 10 mins)"
      ],
      "metadata": {
        "id": "mczmzxjmNIEG"
      }
    },
    {
      "cell_type": "code",
      "source": [
        "!pip install appdirs==1.4.4\n",
        "!pip install omegaconf==2.0.6\n",
        "!pip install torchvision==0.9.1\n",
        "!pip install protobuf==3.19\n",
        "!pip install rouge_score\n",
        "!pip install youtokentome==1.0.3\n",
        "!pip install tokenizers==0.11.6\n",
        "!pip install scikit_image==0.18.2\n",
        "!pip install scikit-learn==0.24.2\n",
        "!pip install pydicom==2.2.0\n",
        "!pip install transformers==4.19.3\n",
        "!pip install seaborn==0.11.1\n",
        "!pip install dalle-pytorch==1.4.2\n",
        "!pip install torchxrayvision==0.0.32\n",
        "!pip install stanza==1.3.0\n",
        "!pip install bert-score==0.3.11\n",
        "!pip install torch==1.8.1\n",
        "!pip install pytorch-lightning==1.4.2\n",
        "!pip install pytorch-metric-learning==0.9.99\n",
        "!pip install torch-optimizer==0.1.0\n",
        "!pip install umap-learn\n",
        "!pip install opencv-python==4.5.4.60\n",
        "!pip install mauve-text\n",
        "!pip install numba==0.54.1\n",
        "!pip install torchmetrics==0.5.0\n",
        "!pip install numpy==1.20.3\n",
        "!pip install gdown==4.3.1\n",
        "!pip install spacy===3.2.3\n",
        "!pip install overrides==3.1.0\n",
        "!pip install boto3==1.21.13\n",
        "!pip install jsonpickle==2.1.0\n",
        "!pip install h5py==3.6.0\n",
        "!pip install tensorboardX==2.5"
      ],
      "metadata": {
        "colab": {
          "base_uri": "https://localhost:8080/"
        },
        "id": "SuXXf1Jr6v32",
        "outputId": "07c18d57-507d-4e66-e32b-6baafc9bc365"
      },
      "execution_count": 20,
      "outputs": [
        {
          "output_type": "stream",
          "name": "stdout",
          "text": [
            "Looking in indexes: https://pypi.org/simple, https://us-python.pkg.dev/colab-wheels/public/simple/\n",
            "\u001b[31mERROR: Could not find a version that satisfies the requirement vilmedic (from versions: none)\u001b[0m\n",
            "\u001b[31mERROR: No matching distribution found for vilmedic\u001b[0m\n"
          ]
        }
      ]
    },
    {
      "cell_type": "code",
      "source": [
        "!gdown https://drive.google.com/uc?id=1koePS_rgP5_zNUeqnQgdQ89nQEolTEbR\n",
        "!unzip -q scorers.zip -d ."
      ],
      "metadata": {
        "colab": {
          "base_uri": "https://localhost:8080/"
        },
        "id": "QohlaToy6_2V",
        "outputId": "42298832-748b-47fc-a856-c2bf0c1b1c86"
      },
      "execution_count": 23,
      "outputs": [
        {
          "output_type": "stream",
          "name": "stdout",
          "text": [
            "Downloading...\n",
            "From: https://drive.google.com/uc?id=1koePS_rgP5_zNUeqnQgdQ89nQEolTEbR\n",
            "To: /content/scorers.zip\n",
            "100% 1.90G/1.90G [00:07<00:00, 256MB/s]\n"
          ]
        }
      ]
    },
    {
      "cell_type": "markdown",
      "source": [
        "# RUN METRICS ON MIMIC-CXR TEST SET FROM RG_ER\n",
        "Can also take up to 10 mins"
      ],
      "metadata": {
        "id": "wP8hCqYiue2v"
      }
    },
    {
      "cell_type": "code",
      "source": [
        "!python score_it.py test_best-1_569479_hyps.txt test_best-1_569479_refs.txt"
      ],
      "metadata": {
        "id": "eGs_DCspujYa"
      },
      "execution_count": null,
      "outputs": []
    }
  ]
}